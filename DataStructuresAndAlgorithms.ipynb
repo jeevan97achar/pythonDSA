{
  "nbformat": 4,
  "nbformat_minor": 0,
  "metadata": {
    "colab": {
      "provenance": [],
      "authorship_tag": "ABX9TyOJ3F7lmxBIrfdpQk6WMBuX",
      "include_colab_link": true
    },
    "kernelspec": {
      "name": "python3",
      "display_name": "Python 3"
    },
    "language_info": {
      "name": "python"
    }
  },
  "cells": [
    {
      "cell_type": "markdown",
      "metadata": {
        "id": "view-in-github",
        "colab_type": "text"
      },
      "source": [
        "<a href=\"https://colab.research.google.com/github/jeevan97achar/pythonDSA/blob/main/DataStructuresAndAlgorithms.ipynb\" target=\"_parent\"><img src=\"https://colab.research.google.com/assets/colab-badge.svg\" alt=\"Open In Colab\"/></a>"
      ]
    },
    {
      "cell_type": "markdown",
      "source": [
        "# Algorithm Analysis and Big O\n",
        "### Introduction to Algorithm Amalysis and Big O\n",
        "\n"
      ],
      "metadata": {
        "id": "qdvokAmSoXEf"
      }
    },
    {
      "cell_type": "code",
      "source": [
        "# Finding the summation of N integers\n",
        "\n",
        "def sum1(n):\n",
        "  '''Take and input interger n and return the sum of the numbers from 0 to n'''\n",
        "  final_sum = 0\n",
        "  for x in range(n+1):\n",
        "    final_sum += x\n",
        "\n",
        "  return final_sum"
      ],
      "metadata": {
        "id": "bhiRPDP2o00k"
      },
      "execution_count": null,
      "outputs": []
    },
    {
      "cell_type": "code",
      "source": [
        "sum1(10)"
      ],
      "metadata": {
        "colab": {
          "base_uri": "https://localhost:8080/"
        },
        "id": "ts-rhF7Dpccu",
        "outputId": "dab603e8-0261-4bee-a985-b15d86d4eb11"
      },
      "execution_count": null,
      "outputs": [
        {
          "output_type": "execute_result",
          "data": {
            "text/plain": [
              "55"
            ]
          },
          "metadata": {},
          "execution_count": 12
        }
      ]
    },
    {
      "cell_type": "code",
      "source": [
        "# Find the same sum but with a different approach\n",
        "\n",
        "def sum2(n):\n",
        "  return (n*(n+1))/2"
      ],
      "metadata": {
        "id": "LQKg7W7VphHK"
      },
      "execution_count": null,
      "outputs": []
    },
    {
      "cell_type": "code",
      "source": [
        "sum2(10)"
      ],
      "metadata": {
        "colab": {
          "base_uri": "https://localhost:8080/"
        },
        "id": "DihjfVxLp00G",
        "outputId": "b7696543-2c1e-41a1-ca5e-56528c00ae96"
      },
      "execution_count": null,
      "outputs": [
        {
          "output_type": "execute_result",
          "data": {
            "text/plain": [
              "55.0"
            ]
          },
          "metadata": {},
          "execution_count": 8
        }
      ]
    },
    {
      "cell_type": "code",
      "source": [
        "# Check the time to the above two functions\n",
        "%timeit sum1(100)"
      ],
      "metadata": {
        "colab": {
          "base_uri": "https://localhost:8080/"
        },
        "id": "51RYWWl3p9QH",
        "outputId": "72d12ce3-4d8b-4ef7-b070-0e572fdc19a0"
      },
      "execution_count": null,
      "outputs": [
        {
          "output_type": "stream",
          "name": "stdout",
          "text": [
            "5.81 µs ± 112 ns per loop (mean ± std. dev. of 7 runs, 100000 loops each)\n"
          ]
        }
      ]
    },
    {
      "cell_type": "code",
      "source": [
        "%timeit sum2(100)"
      ],
      "metadata": {
        "colab": {
          "base_uri": "https://localhost:8080/"
        },
        "id": "Zu3qeKAvqLVQ",
        "outputId": "f7efa5e3-0962-440c-8fbc-455b15344f9a"
      },
      "execution_count": null,
      "outputs": [
        {
          "output_type": "stream",
          "name": "stdout",
          "text": [
            "173 ns ± 0.709 ns per loop (mean ± std. dev. of 7 runs, 10000000 loops each)\n"
          ]
        }
      ]
    },
    {
      "cell_type": "markdown",
      "source": [
        "##### The first function's execution time is in micro seconds whereas the second function's execution time is in nano seconds. But we cannot conclude the efficiencies of the functions based on the %timeit function's time, because this depends on the hardware capabilities. So we need a different method, Big-O!"
      ],
      "metadata": {
        "id": "-DiQw6oSrXK0"
      }
    },
    {
      "cell_type": "markdown",
      "source": [
        "## Big O Examples"
      ],
      "metadata": {
        "id": "P9Sj742BiiBb"
      }
    },
    {
      "cell_type": "markdown",
      "source": [
        "#### O(1) Constant"
      ],
      "metadata": {
        "id": "MHYSt8xEipL5"
      }
    },
    {
      "cell_type": "code",
      "source": [
        "def func_constant(values):\n",
        "  print(values[0])"
      ],
      "metadata": {
        "id": "CK_TRozEi01L"
      },
      "execution_count": null,
      "outputs": []
    },
    {
      "cell_type": "code",
      "source": [
        "lst = [1,2,3,4,5,6,7,8,9]\n",
        "func_constant(lst)"
      ],
      "metadata": {
        "colab": {
          "base_uri": "https://localhost:8080/"
        },
        "id": "770EJXpIjAeg",
        "outputId": "7012e5b2-4fe6-4ed5-fb10-8e74416c5949"
      },
      "execution_count": null,
      "outputs": [
        {
          "output_type": "stream",
          "name": "stdout",
          "text": [
            "1\n"
          ]
        }
      ]
    },
    {
      "cell_type": "markdown",
      "source": [
        "#### O(n) Linear"
      ],
      "metadata": {
        "id": "QwlMx8AgjRsy"
      }
    },
    {
      "cell_type": "code",
      "source": [
        "def func_lin(lst):\n",
        "  for val in lst:\n",
        "    print(val)"
      ],
      "metadata": {
        "id": "f1M0sxr3jaHN"
      },
      "execution_count": null,
      "outputs": []
    },
    {
      "cell_type": "code",
      "source": [
        "func_lin(lst)"
      ],
      "metadata": {
        "colab": {
          "base_uri": "https://localhost:8080/"
        },
        "id": "Yvo7mH8rjiQ7",
        "outputId": "60b1be37-acd8-465b-b497-3c4986d593c9"
      },
      "execution_count": null,
      "outputs": [
        {
          "output_type": "stream",
          "name": "stdout",
          "text": [
            "1\n",
            "2\n",
            "3\n",
            "4\n",
            "5\n",
            "6\n",
            "7\n",
            "8\n",
            "9\n"
          ]
        }
      ]
    },
    {
      "cell_type": "code",
      "source": [
        "def func_quad(lst):\n",
        "    '''\n",
        "    Prints pairs for every item in list.\n",
        "    '''\n",
        "    for item_1 in lst:\n",
        "        for item_2 in lst:\n",
        "            print(item_1,item_2)\n",
        "            \n",
        "lst = [0, 1, 2, 3]\n",
        "\n",
        "func_quad(lst)"
      ],
      "metadata": {
        "colab": {
          "base_uri": "https://localhost:8080/"
        },
        "id": "bHSVVbf9j2Cx",
        "outputId": "de48bcb9-0fd4-410d-f753-d1bc5ea31ca5"
      },
      "execution_count": null,
      "outputs": [
        {
          "output_type": "stream",
          "name": "stdout",
          "text": [
            "0 0\n",
            "0 1\n",
            "0 2\n",
            "0 3\n",
            "1 0\n",
            "1 1\n",
            "1 2\n",
            "1 3\n",
            "2 0\n",
            "2 1\n",
            "2 2\n",
            "2 3\n",
            "3 0\n",
            "3 1\n",
            "3 2\n",
            "3 3\n"
          ]
        }
      ]
    },
    {
      "cell_type": "markdown",
      "source": [
        "### Dynamic Array"
      ],
      "metadata": {
        "id": "NqXj_Fbwj79i"
      }
    },
    {
      "cell_type": "code",
      "source": [
        "import sys\n",
        "\n",
        "# Set n\n",
        "n = 10\n",
        "\n",
        "data = []\n",
        "\n",
        "for i in range(n):\n",
        "\n",
        "  # Number of elements\n",
        "  a = len(data)\n",
        "\n",
        "  # Actual size in Bytes\n",
        "  b = sys.getsizeof(data)\n",
        "\n",
        "  print('Length: {0:3d}; Size in bytes: {1:4d}'.format(a,b))\n",
        "\n",
        "  # Increase length by one\n",
        "  data.append(n)"
      ],
      "metadata": {
        "colab": {
          "base_uri": "https://localhost:8080/"
        },
        "id": "eMbFlqdDj-lW",
        "outputId": "f051b711-6cda-4096-fe79-f6757d1e8fe8"
      },
      "execution_count": null,
      "outputs": [
        {
          "output_type": "stream",
          "name": "stdout",
          "text": [
            "Length:   0; Size in bytes:   56\n",
            "Length:   1; Size in bytes:   88\n",
            "Length:   2; Size in bytes:   88\n",
            "Length:   3; Size in bytes:   88\n",
            "Length:   4; Size in bytes:   88\n",
            "Length:   5; Size in bytes:  120\n",
            "Length:   6; Size in bytes:  120\n",
            "Length:   7; Size in bytes:  120\n",
            "Length:   8; Size in bytes:  120\n",
            "Length:   9; Size in bytes:  184\n"
          ]
        }
      ]
    },
    {
      "cell_type": "markdown",
      "source": [
        "### Dynamic Array Exercise"
      ],
      "metadata": {
        "id": "qWsEEgFANXwr"
      }
    },
    {
      "cell_type": "code",
      "source": [
        "class M(object):\n",
        "    \n",
        "    def public(self):\n",
        "        print('Use Tab to see me!')\n",
        "        \n",
        "    def _private(self):\n",
        "        print(\"You won't be able to Tab to see me!\")"
      ],
      "metadata": {
        "id": "KZ_zSeurNarY"
      },
      "execution_count": null,
      "outputs": []
    },
    {
      "cell_type": "code",
      "source": [
        "m = M()"
      ],
      "metadata": {
        "id": "s62XN4UAX13Y"
      },
      "execution_count": null,
      "outputs": []
    },
    {
      "cell_type": "code",
      "source": [
        "import ctypes\n",
        "\n",
        "class DynamicArray(object):\n",
        "  def __init__(self):\n",
        "    self.n = 0\n",
        "    self.capacity = 1\n",
        "    self.A = self.make_array(self.capacity)\n",
        "\n",
        "  def __len__(self):\n",
        "    return self.n\n",
        "\n",
        "  def __getitem__(self,k):\n",
        "        if not 0<= k < self.n:\n",
        "          return IndexError('K is out of bounds!')\n",
        "        \n",
        "        return self.A[k]\n",
        "\n",
        "  def append(self,ele):\n",
        "    if self.n == self.capacity:\n",
        "      self._resize(2*self.capacity)\n",
        "\n",
        "    self.A[self.n] = ele\n",
        "    self.n += 1\n",
        "  \n",
        "  def _resize(self, new_capacity):\n",
        "    B = self.make_array(new_capacity)\n",
        "\n",
        "    for k in range(self.n):\n",
        "      B[k] = self.A[k]\n",
        "\n",
        "    self.A = B\n",
        "    self.capacity = new_capacity\n",
        "\n",
        "  def make_array(self,new_capacity):\n",
        "    return (new_capacity*ctypes.py_object)()"
      ],
      "metadata": {
        "id": "p2MTtD3rxWox"
      },
      "execution_count": null,
      "outputs": []
    },
    {
      "cell_type": "code",
      "source": [
        "myArray = DynamicArray()"
      ],
      "metadata": {
        "id": "DHdVtAFjO0Vj"
      },
      "execution_count": null,
      "outputs": []
    },
    {
      "cell_type": "code",
      "source": [
        "myArray.append(6)\n",
        "myArray.append(4)\n",
        "myArray.append(2)"
      ],
      "metadata": {
        "id": "yk2WDO5NPL20"
      },
      "execution_count": null,
      "outputs": []
    },
    {
      "cell_type": "code",
      "source": [
        "len(myArray)"
      ],
      "metadata": {
        "colab": {
          "base_uri": "https://localhost:8080/"
        },
        "id": "_Q0mt5S2PQuU",
        "outputId": "d73796a7-2149-4e8e-aa2a-39672ce01974"
      },
      "execution_count": null,
      "outputs": [
        {
          "output_type": "execute_result",
          "data": {
            "text/plain": [
              "3"
            ]
          },
          "metadata": {},
          "execution_count": 65
        }
      ]
    },
    {
      "cell_type": "code",
      "source": [],
      "metadata": {
        "id": "4RHFEvqWWXzE"
      },
      "execution_count": null,
      "outputs": []
    },
    {
      "cell_type": "code",
      "source": [
        "myArray[2]"
      ],
      "metadata": {
        "colab": {
          "base_uri": "https://localhost:8080/"
        },
        "id": "-tD8EVkmRyCl",
        "outputId": "4ad43683-2e8e-4e69-d8d1-3d21d1416068"
      },
      "execution_count": null,
      "outputs": [
        {
          "output_type": "execute_result",
          "data": {
            "text/plain": [
              "2"
            ]
          },
          "metadata": {},
          "execution_count": 67
        }
      ]
    },
    {
      "cell_type": "markdown",
      "source": [
        "### My Solution to the Anagram problem"
      ],
      "metadata": {
        "id": "4lU1jt44lgqW"
      }
    },
    {
      "cell_type": "code",
      "source": [
        "def anagramCheck(str1, str2):\n",
        "  arr1 = list(str1.replace(\" \", \"\").lower())\n",
        "  arr2 = list(str2.replace(\" \", \"\").lower())\n",
        "\n",
        "  if len(arr1) == len(arr2):\n",
        "\n",
        "    for k in range(len(arr1)):\n",
        "      if arr1[k] in arr2:\n",
        "        arr2.remove(arr1[k])\n",
        "      else:\n",
        "        return False\n",
        "        break\n",
        "\n",
        "    if len(arr2) == 0:\n",
        "\n",
        "      return True\n",
        "\n",
        "  else:\n",
        "    return False\n"
      ],
      "metadata": {
        "id": "tn4GxRrsBegB"
      },
      "execution_count": null,
      "outputs": []
    },
    {
      "cell_type": "code",
      "source": [
        "%timeit anagramCheck('dog','god')"
      ],
      "metadata": {
        "colab": {
          "base_uri": "https://localhost:8080/"
        },
        "id": "IxXZaXD2B8v4",
        "outputId": "cb02ad78-b434-4956-e473-f558af63f0c7"
      },
      "execution_count": null,
      "outputs": [
        {
          "output_type": "stream",
          "name": "stdout",
          "text": [
            "2.21 µs ± 790 ns per loop (mean ± std. dev. of 7 runs, 1000000 loops each)\n"
          ]
        }
      ]
    },
    {
      "cell_type": "markdown",
      "source": [
        "### Udemy Solution for the anagram solution"
      ],
      "metadata": {
        "id": "u2QCkQNtlpM_"
      }
    },
    {
      "cell_type": "code",
      "source": [
        "def anagram2(str1, str2):\n",
        "  print(str1)\n",
        "  s1 = str1.replace(\" \", \"\").lower()\n",
        "  s2 = str2.replace(\" \", \"\").lower()\n",
        "\n",
        "  if len(s1) != len(s2):\n",
        "    return False\n",
        "\n",
        "  count = {}\n",
        "  \n",
        "  for letter in s1:\n",
        "    if letter in count:\n",
        "      count[letter] += 1\n",
        "    else:\n",
        "      count[letter] = 1\n",
        "\n",
        "  for letter in s2:\n",
        "    if letter in count:\n",
        "      count[letter] -=1\n",
        "    else:\n",
        "      count[letter] = 1\n",
        "\n",
        "  for k in count:\n",
        "    if count[k] != 0:\n",
        "      return False\n",
        "  \n",
        "  return True"
      ],
      "metadata": {
        "id": "lU6McweHlz9D"
      },
      "execution_count": null,
      "outputs": []
    },
    {
      "cell_type": "code",
      "source": [
        "anagram2('doog','good')"
      ],
      "metadata": {
        "colab": {
          "base_uri": "https://localhost:8080/"
        },
        "id": "BJFU4weWqDfK",
        "outputId": "4cd70bf8-13a3-4628-9a0a-6792890e9468"
      },
      "execution_count": null,
      "outputs": [
        {
          "output_type": "stream",
          "name": "stdout",
          "text": [
            "doog\n",
            "{'d': 1, 'o': 2, 'g': 1}\n",
            "{'d': 0, 'o': 0, 'g': 0}\n"
          ]
        },
        {
          "output_type": "execute_result",
          "data": {
            "text/plain": [
              "True"
            ]
          },
          "metadata": {},
          "execution_count": 49
        }
      ]
    },
    {
      "cell_type": "code",
      "source": [
        "def anagramCheck2(str1,str2):\n",
        "\n",
        "  s1 = str1.replace(' ','').lower()\n",
        "  s2 = str2.replace(' ','').lower()\n",
        "\n",
        "  if len(s1) != len(s2):\n",
        "    return False\n",
        "\n",
        "  count = {}\n",
        "\n",
        "  for letter in s1:\n",
        "    if letter in count:\n",
        "      count[letter] += 1\n",
        "    else:\n",
        "      count[letter] = 1\n",
        "\n",
        "  for letter in s2:\n",
        "    if letter in count:\n",
        "      count[letter] -= 1\n",
        "    else:\n",
        "      count[letter] = 1\n",
        "\n",
        "  for k in count:\n",
        "    if count[k] != 0:\n",
        "      return False\n",
        "\n",
        "  return True\n"
      ],
      "metadata": {
        "id": "O_AI9uTdxjEj"
      },
      "execution_count": null,
      "outputs": []
    },
    {
      "cell_type": "code",
      "source": [
        "anagramCheck2('dog','god')"
      ],
      "metadata": {
        "colab": {
          "base_uri": "https://localhost:8080/"
        },
        "id": "En0hrK8jy_Ym",
        "outputId": "12708d2f-3d03-481f-c276-df70a3e7cda0"
      },
      "execution_count": null,
      "outputs": [
        {
          "output_type": "execute_result",
          "data": {
            "text/plain": [
              "True"
            ]
          },
          "metadata": {},
          "execution_count": 56
        }
      ]
    },
    {
      "cell_type": "code",
      "source": [
        "# Pick one number and then add that number with the next num and then the next\n",
        "\n",
        "temp_array = set()\n",
        "\n",
        "def problem2(arr, num):\n",
        "  for ele in arr:\n",
        "    for k in range(len(arr)):\n",
        "      sum = ele + arr[k]\n",
        "      if sum == num:\n",
        "        temp_array.add((ele,arr[k]))\n",
        "\n",
        "  print(temp_array)"
      ],
      "metadata": {
        "id": "QUKDv_PBLhFb"
      },
      "execution_count": null,
      "outputs": []
    },
    {
      "cell_type": "code",
      "source": [
        "%time problem2([1,3,2,2],4)"
      ],
      "metadata": {
        "colab": {
          "base_uri": "https://localhost:8080/"
        },
        "id": "ApsZMeFOmO2m",
        "outputId": "8003a1d4-8b93-49dc-b94d-08a417ca61d6"
      },
      "execution_count": null,
      "outputs": [
        {
          "output_type": "stream",
          "name": "stdout",
          "text": [
            "{(3, 1), (1, 3), (2, 2)}\n",
            "CPU times: user 1.06 ms, sys: 0 ns, total: 1.06 ms\n",
            "Wall time: 1.89 ms\n"
          ]
        }
      ]
    },
    {
      "cell_type": "code",
      "source": [
        "def pair_sum(arr,k):\n",
        "  if len(arr) < 2:\n",
        "    return\n",
        "\n",
        "  seen = set()\n",
        "  output = set()\n",
        "\n",
        "  for num in arr:\n",
        "\n",
        "    target = k-num\n",
        "\n",
        "    if target not in seen:\n",
        "      seen.add(num)\n",
        "\n",
        "    else:\n",
        "      output.add((min(num,target), max(num,target)))\n",
        "\n",
        "    print('-----------------')\n",
        "    print('Seen:',seen)\n",
        "    print('Output:',output)\n",
        "\n",
        "  return len(output)"
      ],
      "metadata": {
        "id": "kncIy5QHv46j"
      },
      "execution_count": null,
      "outputs": []
    },
    {
      "cell_type": "code",
      "source": [
        "%time pair_sum([1,3,2,2],4)"
      ],
      "metadata": {
        "colab": {
          "base_uri": "https://localhost:8080/"
        },
        "id": "qlwZTnrav96U",
        "outputId": "8526f7c3-ef25-4a71-f70d-2db9bfa3c3cf"
      },
      "execution_count": null,
      "outputs": [
        {
          "output_type": "stream",
          "name": "stdout",
          "text": [
            "-----------------\n",
            "Seen: {1}\n",
            "Output: set()\n",
            "-----------------\n",
            "Seen: {1}\n",
            "Output: {(1, 3)}\n",
            "-----------------\n",
            "Seen: {1, 2}\n",
            "Output: {(1, 3)}\n",
            "-----------------\n",
            "Seen: {1, 2}\n",
            "Output: {(1, 3), (2, 2)}\n",
            "CPU times: user 5.2 ms, sys: 0 ns, total: 5.2 ms\n",
            "Wall time: 5.77 ms\n"
          ]
        },
        {
          "output_type": "execute_result",
          "data": {
            "text/plain": [
              "2"
            ]
          },
          "metadata": {},
          "execution_count": 85
        }
      ]
    },
    {
      "cell_type": "code",
      "source": [
        "# Finding the missing element\n",
        "\n",
        "def findMissing(arr1, arr2):\n",
        "  temp_1 = []\n",
        "  temp_2 = []\n",
        "  missing_num = 0\n",
        "  if len(arr1) > len(arr2):\n",
        "    temp_1 = arr1\n",
        "    temp_2 = arr2\n",
        "  else:\n",
        "    temp_1 = arr2\n",
        "    temp_2 = arr1\n",
        "\n",
        "  for item in temp_1:\n",
        "    if item not in temp_2:\n",
        "      missing_num = item\n",
        "    else:\n",
        "      continue\n",
        "\n",
        "  return missing_num\n",
        "\n",
        "\n"
      ],
      "metadata": {
        "id": "r1J3P1A7d_HO"
      },
      "execution_count": null,
      "outputs": []
    },
    {
      "cell_type": "code",
      "source": [
        "arr1 = [1,2,3,4,5,8,6,7]\n",
        "arr2 = [3,7,2,1,5,4,6]\n",
        "\n",
        "%time findMissing(arr1, arr2)"
      ],
      "metadata": {
        "colab": {
          "base_uri": "https://localhost:8080/"
        },
        "id": "bSoCXqmV3bBD",
        "outputId": "a57b7f16-e977-421b-9c60-691503f49607"
      },
      "execution_count": null,
      "outputs": [
        {
          "output_type": "stream",
          "name": "stdout",
          "text": [
            "CPU times: user 8 µs, sys: 1e+03 ns, total: 9 µs\n",
            "Wall time: 12.2 µs\n"
          ]
        },
        {
          "output_type": "execute_result",
          "data": {
            "text/plain": [
              "8"
            ]
          },
          "metadata": {},
          "execution_count": 24
        }
      ]
    },
    {
      "cell_type": "code",
      "source": [
        "import collections\n",
        "\n",
        "def finder(arr1, arr2):\n",
        "  d = collections.defaultdict(int)\n",
        "\n",
        "  for num in arr2:\n",
        "    d[num]+=1\n",
        "\n",
        "  for num in arr1:\n",
        "    if d[num] == 0:\n",
        "      return num\n",
        "\n",
        "    else: d[num]-=1\n",
        "\n"
      ],
      "metadata": {
        "id": "pBaTQJHe5Fd-"
      },
      "execution_count": null,
      "outputs": []
    },
    {
      "cell_type": "code",
      "source": [
        "arr1 = [1,2,3,4,5,8,6,7]\n",
        "arr2 = [3,7,2,1,5,4,6]\n",
        "\n",
        "%time finder(arr1, arr2)"
      ],
      "metadata": {
        "colab": {
          "base_uri": "https://localhost:8080/"
        },
        "id": "QPowdszJCJyM",
        "outputId": "0392676e-f513-4b88-e94e-db6cb45de0a9"
      },
      "execution_count": null,
      "outputs": [
        {
          "output_type": "stream",
          "name": "stdout",
          "text": [
            "CPU times: user 18 µs, sys: 0 ns, total: 18 µs\n",
            "Wall time: 22.2 µs\n"
          ]
        },
        {
          "output_type": "execute_result",
          "data": {
            "text/plain": [
              "8"
            ]
          },
          "metadata": {},
          "execution_count": 41
        }
      ]
    },
    {
      "cell_type": "code",
      "source": [
        "def finder2(arr1,arr2):\n",
        "\n",
        "  arr1.sort()\n",
        "  arr2.sort()\n",
        "\n",
        "  print(arr1)\n",
        "  print(arr2)\n",
        "  print(list(zip(arr1,arr2)))\n",
        "\n",
        "  for num1, num2 in zip(arr1,arr2):\n",
        "    if num1 != num2:\n",
        "      return num1\n",
        "    \n",
        "  return arr1[-1]"
      ],
      "metadata": {
        "id": "FCp7VV-HERUu"
      },
      "execution_count": null,
      "outputs": []
    },
    {
      "cell_type": "code",
      "source": [
        "arr1 = [1,2,3,4,5,8,6,7]\n",
        "arr2 = [3,7,2,1,5,4,6]\n",
        "\n",
        "%time finder2(arr1, arr2)"
      ],
      "metadata": {
        "colab": {
          "base_uri": "https://localhost:8080/"
        },
        "id": "5rKT6Lo5Et_d",
        "outputId": "38016dfd-1cf7-4516-9afa-abef06801b82"
      },
      "execution_count": null,
      "outputs": [
        {
          "output_type": "stream",
          "name": "stdout",
          "text": [
            "[1, 2, 3, 4, 5, 6, 7, 8]\n",
            "[1, 2, 3, 4, 5, 6, 7]\n",
            "[(1, 1), (2, 2), (3, 3), (4, 4), (5, 5), (6, 6), (7, 7)]\n",
            "CPU times: user 3.17 ms, sys: 0 ns, total: 3.17 ms\n",
            "Wall time: 3.25 ms\n"
          ]
        },
        {
          "output_type": "execute_result",
          "data": {
            "text/plain": [
              "8"
            ]
          },
          "metadata": {},
          "execution_count": 56
        }
      ]
    },
    {
      "cell_type": "markdown",
      "source": [
        "#### Here I learnt about the zip() method in python."
      ],
      "metadata": {
        "id": "G-i4yC1_J3y2"
      }
    },
    {
      "cell_type": "code",
      "source": [
        "nums1 = [4,9,5]\n",
        "nums2 = [9,4,9,8,4]\n",
        "\n",
        "def intersection(nums1, nums2): \n",
        "  temp=[]\n",
        "  count=0\n",
        "\n",
        "  if len(nums1) < len(nums2):\n",
        "    nums1 = nums2\n",
        "    nums2 = nums1\n",
        "\n",
        "    print(nums1)\n",
        "    print(nums2)\n",
        "\n",
        "\n",
        "  for num in nums2:\n",
        "    if num in nums1:\n",
        "      temp.append(num)\n",
        "\n",
        "  return temp\n",
        "\n",
        "\n",
        "intersection(nums1, nums2)\n"
      ],
      "metadata": {
        "colab": {
          "base_uri": "https://localhost:8080/"
        },
        "id": "gJb_34CwjSN6",
        "outputId": "617701ed-2205-47a1-e12e-991515ba5cb8"
      },
      "execution_count": 5,
      "outputs": [
        {
          "output_type": "stream",
          "name": "stdout",
          "text": [
            "[9, 4, 9, 8, 4]\n",
            "[9, 4, 9, 8, 4]\n"
          ]
        },
        {
          "output_type": "execute_result",
          "data": {
            "text/plain": [
              "[9, 4, 9, 8, 4]"
            ]
          },
          "metadata": {},
          "execution_count": 5
        }
      ]
    },
    {
      "cell_type": "code",
      "source": [
        "nums1 = [4,9,5]\n",
        "nums2 = [9,4,9,8,4]\n",
        "\n",
        "def intersect(nums1, nums2):\n",
        "    count = {}\n",
        "    result = []\n",
        "    # store count of each element in nums1\n",
        "    for num in nums1:\n",
        "        if num in count:\n",
        "            count[num] += 1\n",
        "        else:\n",
        "            count[num] = 1\n",
        "    # check each element in nums2\n",
        "    for num in nums2:\n",
        "        if num in count and count[num] > 0:\n",
        "            result.append(num)\n",
        "            count[num] -= 1\n",
        "    return result\n",
        "\n",
        "intersect(nums1, nums2)"
      ],
      "metadata": {
        "colab": {
          "base_uri": "https://localhost:8080/"
        },
        "id": "pJHi0l0SjJa-",
        "outputId": "9eb22e21-de54-498e-b4b8-11ff955f9fa4"
      },
      "execution_count": 2,
      "outputs": [
        {
          "output_type": "execute_result",
          "data": {
            "text/plain": [
              "[9, 4]"
            ]
          },
          "metadata": {},
          "execution_count": 2
        }
      ]
    },
    {
      "cell_type": "code",
      "source": [
        "nums1 = [4,9,5]\n",
        "nums2 = [9,4,9,8,4]\n",
        "\n",
        "def intersect(nums1, nums2):\n",
        "    count = {}\n",
        "    result = []\n",
        "    # store count of each element in nums1\n",
        "    for num in nums1:\n",
        "        if num in count:\n",
        "            count[num] += 1\n",
        "        else:\n",
        "            count[num] = 1\n",
        "    # check each element in nums2\n",
        "    for num in nums2:\n",
        "        if num in count and count[num] > 0:\n",
        "            result.append(num)\n",
        "            count[num] -= 1\n",
        "    return result\n",
        "\n",
        "intersect(nums1, nums2)"
      ],
      "metadata": {
        "id": "MLT5lGLyknPB"
      },
      "execution_count": null,
      "outputs": []
    }
  ]
}